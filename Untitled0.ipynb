{
  "nbformat": 4,
  "nbformat_minor": 0,
  "metadata": {
    "colab": {
      "name": "Untitled0.ipynb",
      "version": "0.3.2",
      "provenance": [],
      "collapsed_sections": [],
      "include_colab_link": true
    },
    "kernelspec": {
      "name": "python3",
      "display_name": "Python 3"
    },
    "accelerator": "GPU"
  },
  "cells": [
    {
      "cell_type": "markdown",
      "metadata": {
        "id": "view-in-github",
        "colab_type": "text"
      },
      "source": [
        "[View in Colaboratory](https://colab.research.google.com/github/LincolnHedgehog/google-colaboratory/blob/master/Untitled0.ipynb)"
      ]
    },
    {
      "metadata": {
        "id": "RxgyvdZubAVq",
        "colab_type": "code",
        "colab": {}
      },
      "cell_type": "code",
      "source": [
        ""
      ],
      "execution_count": 0,
      "outputs": []
    },
    {
      "metadata": {
        "id": "hpBAo-zxbWu0",
        "colab_type": "code",
        "colab": {
          "base_uri": "https://localhost:8080/",
          "height": 68
        },
        "outputId": "f6183dfe-6a96-427a-9e7e-449963486882"
      },
      "cell_type": "code",
      "source": [
        "# データ加工・処理・分析モジュール\n",
        "import numpy as np\n",
        "import numpy.random as random\n",
        "import scipy as sp\n",
        "import pandas as pd\n",
        "from pandas import Series, DataFrame\n",
        "\n",
        "# 学習用データとテストデータに分けるためのモジュール（正解率を出すため）\n",
        "from sklearn.model_selection import train_test_split\n",
        "# アヤメの花(学習するデータ)\n",
        "from sklearn.datasets import load_iris\n",
        "\n",
        "# アヤメの花データ(150個)\n",
        "iris = load_iris()\n",
        "# irisをDataFrameで扱う。\n",
        "df = pd.DataFrame(iris.data, columns=iris.feature_names)\n",
        "# アヤメの種別(ラベル)を追加\n",
        "df[\"target\"] = iris.target_names[iris.target]\n",
        "\n",
        "# 引数で表示数を変更できます。defaultは5\n",
        "df.head()\n",
        "\n",
        "# 説明変数X(特徴量4つ×150)と目的変数Y(アヤメの種類×150)に分ける\n",
        "X = df.drop('target', axis=1)\n",
        "Y = df['target']\n",
        "\n",
        "#ここから学習用データとテスト用データに分ける。random_stateは乱数を固定\n",
        "X_train, X_test, y_train, y_test = train_test_split(X, Y, random_state=0)\n",
        "\n",
        "# k-近傍法（k-NN）\n",
        "from sklearn.neighbors import KNeighborsClassifier\n",
        "\n",
        "#k-NNインスタンス。今回は3個で多数決。3の値を変更して色々試すと〇\n",
        "model = KNeighborsClassifier(n_neighbors=3)\n",
        "#学習モデル構築。引数に訓練データの特徴量と、それに対応したラベル\n",
        "model.fit(X_train, y_train)\n",
        "\n",
        "# .scoreで正解率を算出。\n",
        "print(\"train score:\",model.score(X_train,y_train))\n",
        "print(\"test score:\",model.score(X_test,y_test))\n",
        "\n",
        "# 上記データ\n",
        "data = [[5.2, 3.0, 1.5, 0.6]]\n",
        "\n",
        "# 構築したモデルからアヤメの種類を求める\n",
        "model.predict(data)"
      ],
      "execution_count": 3,
      "outputs": [
        {
          "output_type": "stream",
          "text": [
            "train score: 0.9642857142857143\n",
            "test score: 0.9736842105263158\n"
          ],
          "name": "stdout"
        },
        {
          "output_type": "execute_result",
          "data": {
            "text/plain": [
              "array(['setosa'], dtype=object)"
            ]
          },
          "metadata": {
            "tags": []
          },
          "execution_count": 3
        }
      ]
    }
  ]
}